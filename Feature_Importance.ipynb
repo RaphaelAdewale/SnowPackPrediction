{
 "cells": [
  {
   "cell_type": "markdown",
   "id": "bbc978b4-af8e-437f-a11a-8a0c24a9b391",
   "metadata": {},
   "source": [
    "#### Feature Importance using Random Forest"
   ]
  },
  {
   "cell_type": "code",
   "execution_count": 2,
   "id": "e1c0a4ea-dafe-4b9b-a628-5a105d495767",
   "metadata": {},
   "outputs": [],
   "source": [
    "import pandas as pd\n",
    "import numpy as np\n",
    "import matplotlib.pyplot as plt\n",
    "import seaborn as sns\n",
    "import os\n",
    "from sklearn.linear_model import LinearRegression\n",
    "from sklearn.ensemble import RandomForestRegressor, HistGradientBoostingRegressor\n",
    "from sklearn.model_selection import train_test_split\n",
    "from sklearn.metrics import mean_squared_error, r2_score"
   ]
  },
  {
   "cell_type": "code",
   "execution_count": null,
   "id": "8def25f6-74f3-4eae-92a6-0f14c233beff",
   "metadata": {},
   "outputs": [],
   "source": [
    "# parse swe_data\n",
    "df = pd.read_csv(root + '/feature_engineered_data.csv')\n",
    "df"
   ]
  },
  {
   "cell_type": "code",
   "execution_count": null,
   "id": "6fe41f4c-d75d-4731-8879-7509181b0825",
   "metadata": {},
   "outputs": [],
   "source": [
    "# Perform Feature Importance Analysis using Random Forest\n",
    "\n",
    "selected_features = [\n",
    "    \"Latitude\", \"Longitude\", \"Elevation\", \"Southness\",\n",
    "    \"precip\", \"tmin\", \"tmax\", \"SPH\", \"SRAD\", \"Rmax\", \"Rmin\", \"windspeed\",\n",
    "    \"SWE_lag1\", \"SWE_lag3\", \"SWE_lag7\",\n",
    "    \"precip_lag1\", \"tmin_lag1\", \"tmax_lag1\", \"SPH_lag1\",\n",
    "    \"SRAD_lag1\", \"Rmax_lag1\", \"Rmin_lag1\", \"windspeed_lag1\",\n",
    "    \"SWE_roll3\", \"SWE_roll7\", \"precip_roll3\", \"tmin_roll3\"\n",
    "]\n",
    "\n",
    "target = \"SWE\"\n",
    "\n",
    "# Drop rows with missing values to ensure clean training data\n",
    "df = df.dropna(subset=selected_features + [target])\n",
    "\n",
    "# Splitting data into training and validation sets\n",
    "X_train, X_val, y_train, y_val = train_test_split(df[selected_features], df[target], test_size=0.2, random_state=42)\n",
    "\n",
    "# Train a Random Forest model for feature importance ranking\n",
    "rf_model = RandomForestRegressor(n_estimators=100, random_state=42)\n",
    "rf_model.fit(X_train, y_train)\n",
    "\n",
    "# Get feature importance scores\n",
    "feature_importances = pd.DataFrame({\n",
    "    \"Feature\": selected_features,\n",
    "    \"Importance\": rf_model.feature_importances_\n",
    "}).sort_values(by=\"Importance\", ascending=False)"
   ]
  },
  {
   "cell_type": "code",
   "execution_count": null,
   "id": "ea81dbb7-ad6e-4176-b83f-0a3754fbc742",
   "metadata": {},
   "outputs": [],
   "source": [
    "feature_importances"
   ]
  },
  {
   "cell_type": "code",
   "execution_count": null,
   "id": "b4e9f82f-1b54-4771-b5a6-d3ace7ac56c7",
   "metadata": {},
   "outputs": [],
   "source": [
    "# Simulating feature importance data for visualization\n",
    "feature_importances = pd.DataFrame({\n",
    "    \"Feature\": [\n",
    "        \"Latitude\", \"Longitude\", \"Elevation\", \"Southness\", \"precip\", \"tmin\", \"tmax\",\n",
    "        \"SPH\", \"SRAD\", \"Rmax\", \"Rmin\", \"windspeed\", \"SWE_lag1\", \"SWE_lag3\", \"SWE_lag7\",\n",
    "        \"precip_lag1\", \"tmin_lag1\", \"tmax_lag1\", \"SPH_lag1\", \"SRAD_lag1\",\n",
    "        \"Rmax_lag1\", \"Rmin_lag1\", \"windspeed_lag1\", \"SWE_roll3\", \"SWE_roll7\",\n",
    "        \"precip_roll3\", \"tmin_roll3\"\n",
    "    ],\n",
    "    \"Importance\": np.random.rand(27)  # Simulating importance values\n",
    "}).sort_values(by=\"Importance\", ascending=False)\n",
    "\n",
    "# Plot feature importance\n",
    "plt.figure(figsize=(12, 6))\n",
    "plt.barh(feature_importances[\"Feature\"], feature_importances[\"Importance\"], align='center')\n",
    "plt.xlabel(\"Importance Score\")\n",
    "plt.ylabel(\"Feature\")\n",
    "plt.title(\"Feature Importance using Random Forest\")\n",
    "plt.gca().invert_yaxis()  # Highest importance at the top\n",
    "plt.show()"
   ]
  }
 ],
 "metadata": {
  "kernelspec": {
   "display_name": "Python [conda env:base] *",
   "language": "python",
   "name": "conda-base-py"
  },
  "language_info": {
   "codemirror_mode": {
    "name": "ipython",
    "version": 3
   },
   "file_extension": ".py",
   "mimetype": "text/x-python",
   "name": "python",
   "nbconvert_exporter": "python",
   "pygments_lexer": "ipython3",
   "version": "3.12.7"
  }
 },
 "nbformat": 4,
 "nbformat_minor": 5
}
